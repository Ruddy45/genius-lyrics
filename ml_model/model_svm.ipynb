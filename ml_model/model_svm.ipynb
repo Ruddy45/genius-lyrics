{
  "nbformat": 4,
  "nbformat_minor": 0,
  "metadata": {
    "colab": {
      "name": "model-svm.ipynb",
      "provenance": [],
      "collapsed_sections": []
    },
    "kernelspec": {
      "name": "python3",
      "display_name": "Python 3"
    },
    "language_info": {
      "name": "python"
    }
  },
  "cells": [
    {
      "cell_type": "markdown",
      "source": [
        "# Modèle de prédiction du genre "
      ],
      "metadata": {
        "id": "oXLKRyU9hPy_"
      }
    },
    {
      "cell_type": "markdown",
      "source": [
        "Cette préparation des données s'est fortement appuyé sur les cours de Ricco Rakotomalala <ricco.rakotomalala@univ-lyon2.fr> et des travaux de Javed Shaikh (https://towardsdatascience.com/machine-learning-nlp-text-classification-using-scikit-learn-python-and-nltk-c52b92a7c73a) sur la document classification sur python avec la bibliothèque sklearn"
      ],
      "metadata": {
        "id": "WCk-_rDtZQI0"
      }
    },
    {
      "cell_type": "code",
      "source": [
        "# Import des packages \n",
        "import pandas as pd\n"
      ],
      "metadata": {
        "id": "eaMJAgOZ8jHG"
      },
      "execution_count": 240,
      "outputs": []
    },
    {
      "cell_type": "code",
      "source": [
        "# Import des données sous format csv\n",
        "df = pd.read_csv('df.csv')"
      ],
      "metadata": {
        "id": "Q6dEtnszVk8W"
      },
      "execution_count": 241,
      "outputs": []
    },
    {
      "cell_type": "code",
      "source": [
        "# Liste des genres supprimés après analyse des précisions\n",
        "list_del = ['pop', 'country', 'folk', 'disco', 'r-b', 'techno', 'chill', 'indie', 'rock', 'blues', 'classical-music']"
      ],
      "metadata": {
        "id": "LDLvdmJ_Yfk4"
      },
      "execution_count": 242,
      "outputs": []
    },
    {
      "cell_type": "code",
      "source": [
        "len(list_del)"
      ],
      "metadata": {
        "colab": {
          "base_uri": "https://localhost:8080/"
        },
        "id": "tLiXNTpkebpB",
        "outputId": "2cb98634-5d93-45f7-caad-32c8d99c3265"
      },
      "execution_count": 310,
      "outputs": [
        {
          "output_type": "execute_result",
          "data": {
            "text/plain": [
              "11"
            ]
          },
          "metadata": {},
          "execution_count": 310
        }
      ]
    },
    {
      "cell_type": "code",
      "source": [
        "# Enlève les genres de la liste dans le dataframe\n",
        "df_t = df[~df['genre'].isin(list_del)]"
      ],
      "metadata": {
        "id": "Xk6gZ5pwW6ZU"
      },
      "execution_count": 244,
      "outputs": []
    },
    {
      "cell_type": "code",
      "source": [
        "# Liste des genres conservés pour le modèle\n",
        "df_t.genre.unique()"
      ],
      "metadata": {
        "colab": {
          "base_uri": "https://localhost:8080/"
        },
        "id": "Jgh9xPaRZcHF",
        "outputId": "889ac214-e82a-4c2a-bc1b-c348d9f31ec0"
      },
      "execution_count": 245,
      "outputs": [
        {
          "output_type": "execute_result",
          "data": {
            "text/plain": [
              "array(['electro', 'metal', 'reggae', 'trap', 'k-pop', 'gospel', 'hip-hop',\n",
              "       'jazz'], dtype=object)"
            ]
          },
          "metadata": {},
          "execution_count": 245
        }
      ]
    },
    {
      "cell_type": "code",
      "source": [
        "# Nécessité de reset les index pour le nettoyage des données \n",
        "df_t = df_t.reset_index(drop=True)"
      ],
      "metadata": {
        "id": "jf_V_Vl5XmF8"
      },
      "execution_count": 246,
      "outputs": []
    },
    {
      "cell_type": "code",
      "source": [
        "# Affichage des données extraites\n",
        "df_t.head(10)"
      ],
      "metadata": {
        "id": "hlAZQEyAR-q_",
        "colab": {
          "base_uri": "https://localhost:8080/",
          "height": 363
        },
        "outputId": "b0defa9f-7515-40a6-9dd2-a93952578c26"
      },
      "execution_count": 247,
      "outputs": [
        {
          "output_type": "execute_result",
          "data": {
            "text/html": [
              "\n",
              "  <div id=\"df-0ce52a1c-f78f-46b1-b034-d851699d5e6d\">\n",
              "    <div class=\"colab-df-container\">\n",
              "      <div>\n",
              "<style scoped>\n",
              "    .dataframe tbody tr th:only-of-type {\n",
              "        vertical-align: middle;\n",
              "    }\n",
              "\n",
              "    .dataframe tbody tr th {\n",
              "        vertical-align: top;\n",
              "    }\n",
              "\n",
              "    .dataframe thead th {\n",
              "        text-align: right;\n",
              "    }\n",
              "</style>\n",
              "<table border=\"1\" class=\"dataframe\">\n",
              "  <thead>\n",
              "    <tr style=\"text-align: right;\">\n",
              "      <th></th>\n",
              "      <th>lyrics</th>\n",
              "      <th>genre</th>\n",
              "    </tr>\n",
              "  </thead>\n",
              "  <tbody>\n",
              "    <tr>\n",
              "      <th>0</th>\n",
              "      <td>White shirt now red, my bloody nose\\nSleepin',...</td>\n",
              "      <td>electro</td>\n",
              "    </tr>\n",
              "    <tr>\n",
              "      <th>1</th>\n",
              "      <td>Somethin' must've gone wrong in my brain\\nGot ...</td>\n",
              "      <td>electro</td>\n",
              "    </tr>\n",
              "    <tr>\n",
              "      <th>2</th>\n",
              "      <td>It was great at the very start\\nHands on each ...</td>\n",
              "      <td>electro</td>\n",
              "    </tr>\n",
              "    <tr>\n",
              "      <th>3</th>\n",
              "      <td>Oh, she's sweet, but a psycho\\nA little bit ps...</td>\n",
              "      <td>electro</td>\n",
              "    </tr>\n",
              "    <tr>\n",
              "      <th>4</th>\n",
              "      <td>If you don't wanna see me\\n\\nDid a full one-ei...</td>\n",
              "      <td>electro</td>\n",
              "    </tr>\n",
              "    <tr>\n",
              "      <th>5</th>\n",
              "      <td>Everybody gets high sometimes, you know\\nWhat ...</td>\n",
              "      <td>electro</td>\n",
              "    </tr>\n",
              "    <tr>\n",
              "      <th>6</th>\n",
              "      <td>You call me all friendly\\nTellin' me how much ...</td>\n",
              "      <td>electro</td>\n",
              "    </tr>\n",
              "    <tr>\n",
              "      <th>7</th>\n",
              "      <td>This ain't for the best\\nMy reputation's never...</td>\n",
              "      <td>electro</td>\n",
              "    </tr>\n",
              "    <tr>\n",
              "      <th>8</th>\n",
              "      <td>Do you recall, not long ago\\nWe would walk on ...</td>\n",
              "      <td>electro</td>\n",
              "    </tr>\n",
              "    <tr>\n",
              "      <th>9</th>\n",
              "      <td>Been sitting eyes wide open behind these four ...</td>\n",
              "      <td>electro</td>\n",
              "    </tr>\n",
              "  </tbody>\n",
              "</table>\n",
              "</div>\n",
              "      <button class=\"colab-df-convert\" onclick=\"convertToInteractive('df-0ce52a1c-f78f-46b1-b034-d851699d5e6d')\"\n",
              "              title=\"Convert this dataframe to an interactive table.\"\n",
              "              style=\"display:none;\">\n",
              "        \n",
              "  <svg xmlns=\"http://www.w3.org/2000/svg\" height=\"24px\"viewBox=\"0 0 24 24\"\n",
              "       width=\"24px\">\n",
              "    <path d=\"M0 0h24v24H0V0z\" fill=\"none\"/>\n",
              "    <path d=\"M18.56 5.44l.94 2.06.94-2.06 2.06-.94-2.06-.94-.94-2.06-.94 2.06-2.06.94zm-11 1L8.5 8.5l.94-2.06 2.06-.94-2.06-.94L8.5 2.5l-.94 2.06-2.06.94zm10 10l.94 2.06.94-2.06 2.06-.94-2.06-.94-.94-2.06-.94 2.06-2.06.94z\"/><path d=\"M17.41 7.96l-1.37-1.37c-.4-.4-.92-.59-1.43-.59-.52 0-1.04.2-1.43.59L10.3 9.45l-7.72 7.72c-.78.78-.78 2.05 0 2.83L4 21.41c.39.39.9.59 1.41.59.51 0 1.02-.2 1.41-.59l7.78-7.78 2.81-2.81c.8-.78.8-2.07 0-2.86zM5.41 20L4 18.59l7.72-7.72 1.47 1.35L5.41 20z\"/>\n",
              "  </svg>\n",
              "      </button>\n",
              "      \n",
              "  <style>\n",
              "    .colab-df-container {\n",
              "      display:flex;\n",
              "      flex-wrap:wrap;\n",
              "      gap: 12px;\n",
              "    }\n",
              "\n",
              "    .colab-df-convert {\n",
              "      background-color: #E8F0FE;\n",
              "      border: none;\n",
              "      border-radius: 50%;\n",
              "      cursor: pointer;\n",
              "      display: none;\n",
              "      fill: #1967D2;\n",
              "      height: 32px;\n",
              "      padding: 0 0 0 0;\n",
              "      width: 32px;\n",
              "    }\n",
              "\n",
              "    .colab-df-convert:hover {\n",
              "      background-color: #E2EBFA;\n",
              "      box-shadow: 0px 1px 2px rgba(60, 64, 67, 0.3), 0px 1px 3px 1px rgba(60, 64, 67, 0.15);\n",
              "      fill: #174EA6;\n",
              "    }\n",
              "\n",
              "    [theme=dark] .colab-df-convert {\n",
              "      background-color: #3B4455;\n",
              "      fill: #D2E3FC;\n",
              "    }\n",
              "\n",
              "    [theme=dark] .colab-df-convert:hover {\n",
              "      background-color: #434B5C;\n",
              "      box-shadow: 0px 1px 3px 1px rgba(0, 0, 0, 0.15);\n",
              "      filter: drop-shadow(0px 1px 2px rgba(0, 0, 0, 0.3));\n",
              "      fill: #FFFFFF;\n",
              "    }\n",
              "  </style>\n",
              "\n",
              "      <script>\n",
              "        const buttonEl =\n",
              "          document.querySelector('#df-0ce52a1c-f78f-46b1-b034-d851699d5e6d button.colab-df-convert');\n",
              "        buttonEl.style.display =\n",
              "          google.colab.kernel.accessAllowed ? 'block' : 'none';\n",
              "\n",
              "        async function convertToInteractive(key) {\n",
              "          const element = document.querySelector('#df-0ce52a1c-f78f-46b1-b034-d851699d5e6d');\n",
              "          const dataTable =\n",
              "            await google.colab.kernel.invokeFunction('convertToInteractive',\n",
              "                                                     [key], {});\n",
              "          if (!dataTable) return;\n",
              "\n",
              "          const docLinkHtml = 'Like what you see? Visit the ' +\n",
              "            '<a target=\"_blank\" href=https://colab.research.google.com/notebooks/data_table.ipynb>data table notebook</a>'\n",
              "            + ' to learn more about interactive tables.';\n",
              "          element.innerHTML = '';\n",
              "          dataTable['output_type'] = 'display_data';\n",
              "          await google.colab.output.renderOutput(dataTable, element);\n",
              "          const docLink = document.createElement('div');\n",
              "          docLink.innerHTML = docLinkHtml;\n",
              "          element.appendChild(docLink);\n",
              "        }\n",
              "      </script>\n",
              "    </div>\n",
              "  </div>\n",
              "  "
            ],
            "text/plain": [
              "                                              lyrics    genre\n",
              "0  White shirt now red, my bloody nose\\nSleepin',...  electro\n",
              "1  Somethin' must've gone wrong in my brain\\nGot ...  electro\n",
              "2  It was great at the very start\\nHands on each ...  electro\n",
              "3  Oh, she's sweet, but a psycho\\nA little bit ps...  electro\n",
              "4  If you don't wanna see me\\n\\nDid a full one-ei...  electro\n",
              "5  Everybody gets high sometimes, you know\\nWhat ...  electro\n",
              "6  You call me all friendly\\nTellin' me how much ...  electro\n",
              "7  This ain't for the best\\nMy reputation's never...  electro\n",
              "8  Do you recall, not long ago\\nWe would walk on ...  electro\n",
              "9  Been sitting eyes wide open behind these four ...  electro"
            ]
          },
          "metadata": {},
          "execution_count": 247
        }
      ]
    },
    {
      "cell_type": "code",
      "source": [
        "# Taille du df, 13476 lignes soit autant de musiques avec deux colonnes\n",
        "# Une pour les paroles (lyrics) et une pour le genre \n",
        "df_t.shape"
      ],
      "metadata": {
        "id": "C6_IYDsf6F_R",
        "colab": {
          "base_uri": "https://localhost:8080/"
        },
        "outputId": "ccaf8585-d4c3-4e4d-f89e-a854cac9ec09"
      },
      "execution_count": 248,
      "outputs": [
        {
          "output_type": "execute_result",
          "data": {
            "text/plain": [
              "(6307, 2)"
            ]
          },
          "metadata": {},
          "execution_count": 248
        }
      ]
    },
    {
      "cell_type": "code",
      "source": [
        "len(df_t.lyrics)"
      ],
      "metadata": {
        "id": "8KU4NFlVCZBe",
        "colab": {
          "base_uri": "https://localhost:8080/"
        },
        "outputId": "909b9c4e-4a35-4194-aa81-4ac90c1429eb"
      },
      "execution_count": 249,
      "outputs": [
        {
          "output_type": "execute_result",
          "data": {
            "text/plain": [
              "6307"
            ]
          },
          "metadata": {},
          "execution_count": 249
        }
      ]
    },
    {
      "cell_type": "code",
      "source": [
        "df_t.genre[1001]"
      ],
      "metadata": {
        "colab": {
          "base_uri": "https://localhost:8080/",
          "height": 35
        },
        "id": "yBzFkS0bb2zY",
        "outputId": "45a74ccf-8b63-40b5-9e3b-d384b0bcdf5d"
      },
      "execution_count": 250,
      "outputs": [
        {
          "output_type": "execute_result",
          "data": {
            "application/vnd.google.colaboratory.intrinsic+json": {
              "type": "string"
            },
            "text/plain": [
              "'metal'"
            ]
          },
          "metadata": {},
          "execution_count": 250
        }
      ]
    },
    {
      "cell_type": "code",
      "source": [
        "# Enlève la partie embed venant du scrapping de genius\n",
        "for i in range(0,len(df_t.lyrics)) :\n",
        "  df_t.lyrics[i] = df_t.lyrics[i].replace('EmbedShare URLCopyEmbedCopy','')"
      ],
      "metadata": {
        "id": "hguQXdHWAt4s"
      },
      "execution_count": 251,
      "outputs": []
    },
    {
      "cell_type": "code",
      "source": [
        "# Enlève les sauts de lignes venant du scrapping de genius\n",
        "for i in range(0,len(df_t.lyrics)) :\n",
        "  df_t.lyrics[i] = df_t.lyrics[i].replace('\\n',' ')"
      ],
      "metadata": {
        "id": "lHsmExWsp5qO"
      },
      "execution_count": 252,
      "outputs": []
    },
    {
      "cell_type": "code",
      "source": [
        "df_t.head(2)"
      ],
      "metadata": {
        "id": "daBV8mzhCxe1",
        "colab": {
          "base_uri": "https://localhost:8080/",
          "height": 112
        },
        "outputId": "df834d61-68ca-493d-fbe9-d2605bdf5be4"
      },
      "execution_count": 253,
      "outputs": [
        {
          "output_type": "execute_result",
          "data": {
            "text/html": [
              "\n",
              "  <div id=\"df-dc265c16-1aa8-435f-9b55-01efe791b859\">\n",
              "    <div class=\"colab-df-container\">\n",
              "      <div>\n",
              "<style scoped>\n",
              "    .dataframe tbody tr th:only-of-type {\n",
              "        vertical-align: middle;\n",
              "    }\n",
              "\n",
              "    .dataframe tbody tr th {\n",
              "        vertical-align: top;\n",
              "    }\n",
              "\n",
              "    .dataframe thead th {\n",
              "        text-align: right;\n",
              "    }\n",
              "</style>\n",
              "<table border=\"1\" class=\"dataframe\">\n",
              "  <thead>\n",
              "    <tr style=\"text-align: right;\">\n",
              "      <th></th>\n",
              "      <th>lyrics</th>\n",
              "      <th>genre</th>\n",
              "    </tr>\n",
              "  </thead>\n",
              "  <tbody>\n",
              "    <tr>\n",
              "      <th>0</th>\n",
              "      <td>White shirt now red, my bloody nose Sleepin', ...</td>\n",
              "      <td>electro</td>\n",
              "    </tr>\n",
              "    <tr>\n",
              "      <th>1</th>\n",
              "      <td>Somethin' must've gone wrong in my brain Got y...</td>\n",
              "      <td>electro</td>\n",
              "    </tr>\n",
              "  </tbody>\n",
              "</table>\n",
              "</div>\n",
              "      <button class=\"colab-df-convert\" onclick=\"convertToInteractive('df-dc265c16-1aa8-435f-9b55-01efe791b859')\"\n",
              "              title=\"Convert this dataframe to an interactive table.\"\n",
              "              style=\"display:none;\">\n",
              "        \n",
              "  <svg xmlns=\"http://www.w3.org/2000/svg\" height=\"24px\"viewBox=\"0 0 24 24\"\n",
              "       width=\"24px\">\n",
              "    <path d=\"M0 0h24v24H0V0z\" fill=\"none\"/>\n",
              "    <path d=\"M18.56 5.44l.94 2.06.94-2.06 2.06-.94-2.06-.94-.94-2.06-.94 2.06-2.06.94zm-11 1L8.5 8.5l.94-2.06 2.06-.94-2.06-.94L8.5 2.5l-.94 2.06-2.06.94zm10 10l.94 2.06.94-2.06 2.06-.94-2.06-.94-.94-2.06-.94 2.06-2.06.94z\"/><path d=\"M17.41 7.96l-1.37-1.37c-.4-.4-.92-.59-1.43-.59-.52 0-1.04.2-1.43.59L10.3 9.45l-7.72 7.72c-.78.78-.78 2.05 0 2.83L4 21.41c.39.39.9.59 1.41.59.51 0 1.02-.2 1.41-.59l7.78-7.78 2.81-2.81c.8-.78.8-2.07 0-2.86zM5.41 20L4 18.59l7.72-7.72 1.47 1.35L5.41 20z\"/>\n",
              "  </svg>\n",
              "      </button>\n",
              "      \n",
              "  <style>\n",
              "    .colab-df-container {\n",
              "      display:flex;\n",
              "      flex-wrap:wrap;\n",
              "      gap: 12px;\n",
              "    }\n",
              "\n",
              "    .colab-df-convert {\n",
              "      background-color: #E8F0FE;\n",
              "      border: none;\n",
              "      border-radius: 50%;\n",
              "      cursor: pointer;\n",
              "      display: none;\n",
              "      fill: #1967D2;\n",
              "      height: 32px;\n",
              "      padding: 0 0 0 0;\n",
              "      width: 32px;\n",
              "    }\n",
              "\n",
              "    .colab-df-convert:hover {\n",
              "      background-color: #E2EBFA;\n",
              "      box-shadow: 0px 1px 2px rgba(60, 64, 67, 0.3), 0px 1px 3px 1px rgba(60, 64, 67, 0.15);\n",
              "      fill: #174EA6;\n",
              "    }\n",
              "\n",
              "    [theme=dark] .colab-df-convert {\n",
              "      background-color: #3B4455;\n",
              "      fill: #D2E3FC;\n",
              "    }\n",
              "\n",
              "    [theme=dark] .colab-df-convert:hover {\n",
              "      background-color: #434B5C;\n",
              "      box-shadow: 0px 1px 3px 1px rgba(0, 0, 0, 0.15);\n",
              "      filter: drop-shadow(0px 1px 2px rgba(0, 0, 0, 0.3));\n",
              "      fill: #FFFFFF;\n",
              "    }\n",
              "  </style>\n",
              "\n",
              "      <script>\n",
              "        const buttonEl =\n",
              "          document.querySelector('#df-dc265c16-1aa8-435f-9b55-01efe791b859 button.colab-df-convert');\n",
              "        buttonEl.style.display =\n",
              "          google.colab.kernel.accessAllowed ? 'block' : 'none';\n",
              "\n",
              "        async function convertToInteractive(key) {\n",
              "          const element = document.querySelector('#df-dc265c16-1aa8-435f-9b55-01efe791b859');\n",
              "          const dataTable =\n",
              "            await google.colab.kernel.invokeFunction('convertToInteractive',\n",
              "                                                     [key], {});\n",
              "          if (!dataTable) return;\n",
              "\n",
              "          const docLinkHtml = 'Like what you see? Visit the ' +\n",
              "            '<a target=\"_blank\" href=https://colab.research.google.com/notebooks/data_table.ipynb>data table notebook</a>'\n",
              "            + ' to learn more about interactive tables.';\n",
              "          element.innerHTML = '';\n",
              "          dataTable['output_type'] = 'display_data';\n",
              "          await google.colab.output.renderOutput(dataTable, element);\n",
              "          const docLink = document.createElement('div');\n",
              "          docLink.innerHTML = docLinkHtml;\n",
              "          element.appendChild(docLink);\n",
              "        }\n",
              "      </script>\n",
              "    </div>\n",
              "  </div>\n",
              "  "
            ],
            "text/plain": [
              "                                              lyrics    genre\n",
              "0  White shirt now red, my bloody nose Sleepin', ...  electro\n",
              "1  Somethin' must've gone wrong in my brain Got y...  electro"
            ]
          },
          "metadata": {},
          "execution_count": 253
        }
      ]
    },
    {
      "cell_type": "markdown",
      "source": [
        "##Nettoyage du corpus"
      ],
      "metadata": {
        "id": "fiafN0HZ97a0"
      }
    },
    {
      "cell_type": "code",
      "source": [
        "# Passage sous forme de liste\n",
        "corpus = df_t.lyrics.tolist()\n",
        "#corpus[0]"
      ],
      "metadata": {
        "id": "d0xldsTw96RW"
      },
      "execution_count": 254,
      "outputs": []
    },
    {
      "cell_type": "code",
      "source": [
        "# Passage en minuscule\n",
        "corpus = [doc.lower() for doc in corpus]\n",
        "#corpus[0]"
      ],
      "metadata": {
        "id": "uoep74SV-ZfE"
      },
      "execution_count": 255,
      "outputs": []
    },
    {
      "cell_type": "code",
      "source": [
        "# Liste des ponctuations \n",
        "import string\n",
        "ponctuations = list(string.punctuation)\n",
        "#ponctuations"
      ],
      "metadata": {
        "id": "795jcwP1-wDG"
      },
      "execution_count": 256,
      "outputs": []
    },
    {
      "cell_type": "code",
      "source": [
        "# Retrait des ponctuations\n",
        "corpus = [\"\".join([char for char in list(doc) if not (char in ponctuations)]) for doc in corpus]\n",
        "#corpus[0]"
      ],
      "metadata": {
        "id": "4F9ziOiu_AIh"
      },
      "execution_count": 257,
      "outputs": []
    },
    {
      "cell_type": "code",
      "source": [
        "import re"
      ],
      "metadata": {
        "id": "CWLdEIY5vBVr"
      },
      "execution_count": 258,
      "outputs": []
    },
    {
      "cell_type": "code",
      "source": [
        "# Retrait des nombres\n",
        "corpus = [re.sub(r'\\d+', '', doc) for doc in corpus]\n",
        "#corpus[0]"
      ],
      "metadata": {
        "id": "O_zQkJmJuoua"
      },
      "execution_count": 259,
      "outputs": []
    },
    {
      "cell_type": "code",
      "source": [
        "import nltk\n",
        "# Choix d'installation directe\n",
        "nltk.download(\"punkt\")"
      ],
      "metadata": {
        "id": "HmGUBzqa_eOV",
        "colab": {
          "base_uri": "https://localhost:8080/"
        },
        "outputId": "8b026ba4-1581-4429-df48-b8f70f2df760"
      },
      "execution_count": 260,
      "outputs": [
        {
          "output_type": "stream",
          "name": "stdout",
          "text": [
            "[nltk_data] Downloading package punkt to /root/nltk_data...\n",
            "[nltk_data]   Package punkt is already up-to-date!\n"
          ]
        },
        {
          "output_type": "execute_result",
          "data": {
            "text/plain": [
              "True"
            ]
          },
          "metadata": {},
          "execution_count": 260
        }
      ]
    },
    {
      "cell_type": "code",
      "source": [
        "from nltk.tokenize import word_tokenize\n",
        "corpus_tk = [word_tokenize(doc) for doc in corpus]\n",
        "#corpus_tk[0]"
      ],
      "metadata": {
        "id": "QTSTqTzA_6TL"
      },
      "execution_count": 261,
      "outputs": []
    },
    {
      "cell_type": "code",
      "source": [
        "nltk.download('wordnet')"
      ],
      "metadata": {
        "id": "u4v4-x8sDQgQ",
        "colab": {
          "base_uri": "https://localhost:8080/"
        },
        "outputId": "fe8b622f-d66e-4ec9-c5ce-d23bcd87fa46"
      },
      "execution_count": 262,
      "outputs": [
        {
          "output_type": "stream",
          "name": "stdout",
          "text": [
            "[nltk_data] Downloading package wordnet to /root/nltk_data...\n",
            "[nltk_data]   Package wordnet is already up-to-date!\n"
          ]
        },
        {
          "output_type": "execute_result",
          "data": {
            "text/plain": [
              "True"
            ]
          },
          "metadata": {},
          "execution_count": 262
        }
      ]
    },
    {
      "cell_type": "code",
      "source": [
        "# Lemmatisation , pas sûr si c'est important dans les paroles d'une chanson\n",
        "from nltk.stem import WordNetLemmatizer\n",
        "lem = WordNetLemmatizer()\n",
        "corpus_lem = [[lem.lemmatize(mot) for mot in doc] for doc in corpus_tk]\n",
        "#corpus_lem[0]"
      ],
      "metadata": {
        "id": "6plSkFZ8DamW"
      },
      "execution_count": 263,
      "outputs": []
    },
    {
      "cell_type": "code",
      "source": [
        "nltk.download('stopwords')"
      ],
      "metadata": {
        "id": "RX18SR7UEccZ",
        "colab": {
          "base_uri": "https://localhost:8080/"
        },
        "outputId": "c7e7f960-1f98-442b-b3b7-d0268ad6aaac"
      },
      "execution_count": 264,
      "outputs": [
        {
          "output_type": "stream",
          "name": "stdout",
          "text": [
            "[nltk_data] Downloading package stopwords to /root/nltk_data...\n",
            "[nltk_data]   Package stopwords is already up-to-date!\n"
          ]
        },
        {
          "output_type": "execute_result",
          "data": {
            "text/plain": [
              "True"
            ]
          },
          "metadata": {},
          "execution_count": 264
        }
      ]
    },
    {
      "cell_type": "code",
      "source": [
        "from nltk.corpus import stopwords\n",
        "stop_words = stopwords.words('english')\n"
      ],
      "metadata": {
        "id": "X6UkJWpPEykh"
      },
      "execution_count": 265,
      "outputs": []
    },
    {
      "cell_type": "code",
      "source": [
        "corpus_st = [[mot for mot in doc if not mot in stop_words] for doc in corpus_lem]\n",
        "#corpus_st[0]"
      ],
      "metadata": {
        "id": "eNLkcg8Ar6Hh"
      },
      "execution_count": 266,
      "outputs": []
    },
    {
      "cell_type": "code",
      "source": [
        "corpus_st = [[mot for mot in doc if len(mot) >=3] for doc in corpus_st]\n",
        "#corpus_st[0]"
      ],
      "metadata": {
        "id": "kxN8c4UYvuCg"
      },
      "execution_count": 267,
      "outputs": []
    },
    {
      "cell_type": "code",
      "source": [
        "dfa = df_t\n",
        "for i in range(0, len(corpus_lem)):\n",
        "  dfa['lyrics'][i] = ' '.join(corpus_st[i])\n",
        "  dfa['genre'][i] = df_t.genre[i]"
      ],
      "metadata": {
        "id": "BBPzV4BWFQF1"
      },
      "execution_count": 268,
      "outputs": []
    },
    {
      "cell_type": "code",
      "source": [
        "dfa.head(3)"
      ],
      "metadata": {
        "id": "gM-Iw1ohGJqS",
        "colab": {
          "base_uri": "https://localhost:8080/",
          "height": 143
        },
        "outputId": "0e9f88fc-3038-4714-b384-3fe0bd5de2b8"
      },
      "execution_count": 269,
      "outputs": [
        {
          "output_type": "execute_result",
          "data": {
            "text/html": [
              "\n",
              "  <div id=\"df-0e3ef468-8d6a-4085-85d9-a100ec18e77c\">\n",
              "    <div class=\"colab-df-container\">\n",
              "      <div>\n",
              "<style scoped>\n",
              "    .dataframe tbody tr th:only-of-type {\n",
              "        vertical-align: middle;\n",
              "    }\n",
              "\n",
              "    .dataframe tbody tr th {\n",
              "        vertical-align: top;\n",
              "    }\n",
              "\n",
              "    .dataframe thead th {\n",
              "        text-align: right;\n",
              "    }\n",
              "</style>\n",
              "<table border=\"1\" class=\"dataframe\">\n",
              "  <thead>\n",
              "    <tr style=\"text-align: right;\">\n",
              "      <th></th>\n",
              "      <th>lyrics</th>\n",
              "      <th>genre</th>\n",
              "    </tr>\n",
              "  </thead>\n",
              "  <tbody>\n",
              "    <tr>\n",
              "      <th>0</th>\n",
              "      <td>white shirt red bloody nose sleepin youre tipp...</td>\n",
              "      <td>electro</td>\n",
              "    </tr>\n",
              "    <tr>\n",
              "      <th>1</th>\n",
              "      <td>somethin mustve gone wrong brain got chemical ...</td>\n",
              "      <td>electro</td>\n",
              "    </tr>\n",
              "    <tr>\n",
              "      <th>2</th>\n",
              "      <td>great start hand couldnt stand far apart close...</td>\n",
              "      <td>electro</td>\n",
              "    </tr>\n",
              "  </tbody>\n",
              "</table>\n",
              "</div>\n",
              "      <button class=\"colab-df-convert\" onclick=\"convertToInteractive('df-0e3ef468-8d6a-4085-85d9-a100ec18e77c')\"\n",
              "              title=\"Convert this dataframe to an interactive table.\"\n",
              "              style=\"display:none;\">\n",
              "        \n",
              "  <svg xmlns=\"http://www.w3.org/2000/svg\" height=\"24px\"viewBox=\"0 0 24 24\"\n",
              "       width=\"24px\">\n",
              "    <path d=\"M0 0h24v24H0V0z\" fill=\"none\"/>\n",
              "    <path d=\"M18.56 5.44l.94 2.06.94-2.06 2.06-.94-2.06-.94-.94-2.06-.94 2.06-2.06.94zm-11 1L8.5 8.5l.94-2.06 2.06-.94-2.06-.94L8.5 2.5l-.94 2.06-2.06.94zm10 10l.94 2.06.94-2.06 2.06-.94-2.06-.94-.94-2.06-.94 2.06-2.06.94z\"/><path d=\"M17.41 7.96l-1.37-1.37c-.4-.4-.92-.59-1.43-.59-.52 0-1.04.2-1.43.59L10.3 9.45l-7.72 7.72c-.78.78-.78 2.05 0 2.83L4 21.41c.39.39.9.59 1.41.59.51 0 1.02-.2 1.41-.59l7.78-7.78 2.81-2.81c.8-.78.8-2.07 0-2.86zM5.41 20L4 18.59l7.72-7.72 1.47 1.35L5.41 20z\"/>\n",
              "  </svg>\n",
              "      </button>\n",
              "      \n",
              "  <style>\n",
              "    .colab-df-container {\n",
              "      display:flex;\n",
              "      flex-wrap:wrap;\n",
              "      gap: 12px;\n",
              "    }\n",
              "\n",
              "    .colab-df-convert {\n",
              "      background-color: #E8F0FE;\n",
              "      border: none;\n",
              "      border-radius: 50%;\n",
              "      cursor: pointer;\n",
              "      display: none;\n",
              "      fill: #1967D2;\n",
              "      height: 32px;\n",
              "      padding: 0 0 0 0;\n",
              "      width: 32px;\n",
              "    }\n",
              "\n",
              "    .colab-df-convert:hover {\n",
              "      background-color: #E2EBFA;\n",
              "      box-shadow: 0px 1px 2px rgba(60, 64, 67, 0.3), 0px 1px 3px 1px rgba(60, 64, 67, 0.15);\n",
              "      fill: #174EA6;\n",
              "    }\n",
              "\n",
              "    [theme=dark] .colab-df-convert {\n",
              "      background-color: #3B4455;\n",
              "      fill: #D2E3FC;\n",
              "    }\n",
              "\n",
              "    [theme=dark] .colab-df-convert:hover {\n",
              "      background-color: #434B5C;\n",
              "      box-shadow: 0px 1px 3px 1px rgba(0, 0, 0, 0.15);\n",
              "      filter: drop-shadow(0px 1px 2px rgba(0, 0, 0, 0.3));\n",
              "      fill: #FFFFFF;\n",
              "    }\n",
              "  </style>\n",
              "\n",
              "      <script>\n",
              "        const buttonEl =\n",
              "          document.querySelector('#df-0e3ef468-8d6a-4085-85d9-a100ec18e77c button.colab-df-convert');\n",
              "        buttonEl.style.display =\n",
              "          google.colab.kernel.accessAllowed ? 'block' : 'none';\n",
              "\n",
              "        async function convertToInteractive(key) {\n",
              "          const element = document.querySelector('#df-0e3ef468-8d6a-4085-85d9-a100ec18e77c');\n",
              "          const dataTable =\n",
              "            await google.colab.kernel.invokeFunction('convertToInteractive',\n",
              "                                                     [key], {});\n",
              "          if (!dataTable) return;\n",
              "\n",
              "          const docLinkHtml = 'Like what you see? Visit the ' +\n",
              "            '<a target=\"_blank\" href=https://colab.research.google.com/notebooks/data_table.ipynb>data table notebook</a>'\n",
              "            + ' to learn more about interactive tables.';\n",
              "          element.innerHTML = '';\n",
              "          dataTable['output_type'] = 'display_data';\n",
              "          await google.colab.output.renderOutput(dataTable, element);\n",
              "          const docLink = document.createElement('div');\n",
              "          docLink.innerHTML = docLinkHtml;\n",
              "          element.appendChild(docLink);\n",
              "        }\n",
              "      </script>\n",
              "    </div>\n",
              "  </div>\n",
              "  "
            ],
            "text/plain": [
              "                                              lyrics    genre\n",
              "0  white shirt red bloody nose sleepin youre tipp...  electro\n",
              "1  somethin mustve gone wrong brain got chemical ...  electro\n",
              "2  great start hand couldnt stand far apart close...  electro"
            ]
          },
          "metadata": {},
          "execution_count": 269
        }
      ]
    },
    {
      "cell_type": "code",
      "source": [
        "import numpy as np\n",
        "from sklearn.model_selection import train_test_split"
      ],
      "metadata": {
        "id": "D9AoS3tVGddL"
      },
      "execution_count": 270,
      "outputs": []
    },
    {
      "cell_type": "code",
      "source": [
        "import sklearn\n",
        "print(sklearn.__version__)"
      ],
      "metadata": {
        "colab": {
          "base_uri": "https://localhost:8080/"
        },
        "id": "iph9YhyjzCRr",
        "outputId": "672056ed-c3a6-4b32-bf02-7d2eeebb0ae3"
      },
      "execution_count": 319,
      "outputs": [
        {
          "output_type": "stream",
          "name": "stdout",
          "text": [
            "1.0.1\n"
          ]
        }
      ]
    },
    {
      "cell_type": "code",
      "source": [
        "# Préparation des échantillons d'apprentissage, test avec les variables cibles\n",
        "Xa_train, Xa_test, ya_train, ya_test = train_test_split(dfa.lyrics, dfa.genre, test_size=0.3, random_state=0, stratify=dfa.genre)"
      ],
      "metadata": {
        "id": "FY2rWIVZGddM"
      },
      "execution_count": 311,
      "outputs": []
    },
    {
      "cell_type": "code",
      "source": [
        "ya_train.shape"
      ],
      "metadata": {
        "id": "PPerbr7FGddM",
        "colab": {
          "base_uri": "https://localhost:8080/"
        },
        "outputId": "5659cd58-c2f9-4a7a-efb7-d374c223a06d"
      },
      "execution_count": 272,
      "outputs": [
        {
          "output_type": "execute_result",
          "data": {
            "text/plain": [
              "(4414,)"
            ]
          },
          "metadata": {},
          "execution_count": 272
        }
      ]
    },
    {
      "cell_type": "code",
      "source": [
        "ya_test.shape"
      ],
      "metadata": {
        "id": "RPF1XtA1GddN",
        "colab": {
          "base_uri": "https://localhost:8080/"
        },
        "outputId": "1a7d92b3-afa0-488b-8a95-c832ce225c8d"
      },
      "execution_count": 273,
      "outputs": [
        {
          "output_type": "execute_result",
          "data": {
            "text/plain": [
              "(1893,)"
            ]
          },
          "metadata": {},
          "execution_count": 273
        }
      ]
    },
    {
      "cell_type": "code",
      "source": [
        "# Convertit le fichier texte en une matrice de décompte des mots \n",
        "from sklearn.feature_extraction.text import CountVectorizer\n",
        "count_vect = CountVectorizer()\n",
        "Xa_train_counts = count_vect.fit_transform(Xa_train)\n",
        "Xa_train_counts.shape"
      ],
      "metadata": {
        "id": "G4g8_QetGddO",
        "colab": {
          "base_uri": "https://localhost:8080/"
        },
        "outputId": "498c1f32-eba3-4b78-97b7-359ff99f9dd7"
      },
      "execution_count": 274,
      "outputs": [
        {
          "output_type": "execute_result",
          "data": {
            "text/plain": [
              "(4414, 61744)"
            ]
          },
          "metadata": {},
          "execution_count": 274
        }
      ]
    },
    {
      "cell_type": "code",
      "source": [
        "# Réduit le poids \n",
        "from sklearn.feature_extraction.text import TfidfTransformer\n",
        "tfidf_transformer = TfidfTransformer()\n",
        "Xa_train_tfidf = tfidf_transformer.fit_transform(Xa_train_counts)\n",
        "Xa_train_tfidf.shape"
      ],
      "metadata": {
        "id": "wLPST_yWGddO",
        "colab": {
          "base_uri": "https://localhost:8080/"
        },
        "outputId": "d7863c05-d388-4050-e241-bc5841218141"
      },
      "execution_count": 275,
      "outputs": [
        {
          "output_type": "execute_result",
          "data": {
            "text/plain": [
              "(4414, 61744)"
            ]
          },
          "metadata": {},
          "execution_count": 275
        }
      ]
    },
    {
      "cell_type": "code",
      "source": [
        "from sklearn.pipeline import Pipeline"
      ],
      "metadata": {
        "id": "B19WC5d4szdz"
      },
      "execution_count": 276,
      "outputs": []
    },
    {
      "cell_type": "markdown",
      "source": [
        "## Modèle avec l'algorithme Support Vector Machines (SVM)"
      ],
      "metadata": {
        "id": "VyBENSmaHfRv"
      }
    },
    {
      "cell_type": "code",
      "source": [
        "from sklearn.linear_model import SGDClassifier"
      ],
      "metadata": {
        "id": "IbxTVYfyGOf3"
      },
      "execution_count": 277,
      "outputs": []
    },
    {
      "cell_type": "code",
      "source": [
        "text_clf_svm = Pipeline([('vect', CountVectorizer()),\n",
        "                     ('tfidf', TfidfTransformer()),\n",
        "                      ('clf-svm', SGDClassifier(loss='hinge', penalty='l2',\n",
        "                                           alpha=1e-3, random_state=0)),\n",
        "])"
      ],
      "metadata": {
        "id": "eZzAikr8Hwrx"
      },
      "execution_count": 282,
      "outputs": []
    },
    {
      "cell_type": "code",
      "source": [
        "text_clf_svm.fit(Xa_train, ya_train)"
      ],
      "metadata": {
        "id": "sqBL_V4KItmM",
        "colab": {
          "base_uri": "https://localhost:8080/"
        },
        "outputId": "23f9357c-9c6b-4509-e7eb-0558cf75c8f0"
      },
      "execution_count": 283,
      "outputs": [
        {
          "output_type": "execute_result",
          "data": {
            "text/plain": [
              "Pipeline(steps=[('vect', CountVectorizer()), ('tfidf', TfidfTransformer()),\n",
              "                ('clf-svm', SGDClassifier(alpha=0.001, random_state=0))])"
            ]
          },
          "metadata": {},
          "execution_count": 283
        }
      ]
    },
    {
      "cell_type": "code",
      "source": [
        "from sklearn.metrics import classification_report\n",
        "from sklearn.metrics import accuracy_score"
      ],
      "metadata": {
        "id": "_F03gOvYtSpn"
      },
      "execution_count": 280,
      "outputs": []
    },
    {
      "cell_type": "code",
      "source": [
        "predict_svm = text_clf_svm.predict(Xa_test)\n",
        "print(accuracy_score(ya_test, predict_svm))\n",
        "print(classification_report(ya_test, predict_svm))"
      ],
      "metadata": {
        "id": "-nqQLEBdI3lQ",
        "colab": {
          "base_uri": "https://localhost:8080/"
        },
        "outputId": "0d745b6f-e2c5-4179-c078-d1104451316d"
      },
      "execution_count": 284,
      "outputs": [
        {
          "output_type": "stream",
          "name": "stdout",
          "text": [
            "0.5927099841521395\n",
            "              precision    recall  f1-score   support\n",
            "\n",
            "     electro       0.53      0.37      0.44       285\n",
            "      gospel       0.68      0.67      0.68       209\n",
            "     hip-hop       0.57      0.62      0.60       305\n",
            "        jazz       0.56      0.53      0.54       291\n",
            "       k-pop       0.72      0.59      0.65        90\n",
            "       metal       0.61      0.63      0.62       239\n",
            "      reggae       0.63      0.68      0.65       240\n",
            "        trap       0.55      0.71      0.62       234\n",
            "\n",
            "    accuracy                           0.59      1893\n",
            "   macro avg       0.61      0.60      0.60      1893\n",
            "weighted avg       0.59      0.59      0.59      1893\n",
            "\n"
          ]
        }
      ]
    },
    {
      "cell_type": "markdown",
      "source": [
        "## Extraction et sauvegarde du modèle final"
      ],
      "metadata": {
        "id": "Dd4XXmBsw-1F"
      }
    },
    {
      "cell_type": "code",
      "source": [
        "import pickle"
      ],
      "metadata": {
        "id": "1eZF7UHLpueK"
      },
      "execution_count": 293,
      "outputs": []
    },
    {
      "cell_type": "code",
      "source": [
        "print(pickle.format_version)"
      ],
      "metadata": {
        "colab": {
          "base_uri": "https://localhost:8080/"
        },
        "id": "iRDMe2cqygOt",
        "outputId": "e36ae66f-e7a2-440e-e323-1c11de4c6fad"
      },
      "execution_count": 314,
      "outputs": [
        {
          "output_type": "stream",
          "name": "stdout",
          "text": [
            "4.0\n"
          ]
        }
      ]
    },
    {
      "cell_type": "code",
      "source": [
        "filename = 'model-svm.sav'"
      ],
      "metadata": {
        "id": "HU3giuCYpgzP"
      },
      "execution_count": 294,
      "outputs": []
    },
    {
      "cell_type": "code",
      "source": [
        "pickle.dump(text_clf_svm, open(filename, 'wb'))"
      ],
      "metadata": {
        "id": "UmZJm6zJp_OX"
      },
      "execution_count": 295,
      "outputs": []
    },
    {
      "cell_type": "code",
      "source": [
        "loaded_model = pickle.load(open(filename, 'rb'))"
      ],
      "metadata": {
        "id": "6PdnquX-qQ-S"
      },
      "execution_count": 296,
      "outputs": []
    },
    {
      "cell_type": "code",
      "source": [
        "res = loaded_model.predict([df_t.lyrics[1]])"
      ],
      "metadata": {
        "id": "7reU2qQXqaiR"
      },
      "execution_count": 320,
      "outputs": []
    },
    {
      "cell_type": "code",
      "source": [
        "res[0]"
      ],
      "metadata": {
        "colab": {
          "base_uri": "https://localhost:8080/"
        },
        "id": "3L6EKuwK0gbr",
        "outputId": "8c2217d2-697e-41af-d75e-66c07dce68d9"
      },
      "execution_count": 321,
      "outputs": [
        {
          "output_type": "execute_result",
          "data": {
            "text/plain": [
              "array(['electro'], dtype='<U7')"
            ]
          },
          "metadata": {},
          "execution_count": 321
        }
      ]
    }
  ]
}